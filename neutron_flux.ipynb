{
 "cells": [
  {
   "cell_type": "markdown",
   "metadata": {},
   "source": [
    "# Μέτρηση της ροής της κατανομής νετρονίων σε υποκρίσιμο πυρηνικό αντιδραστήρα\n",
    "\n",
    "## Θεωρητική εισαγωγή"
   ]
  },
  {
   "cell_type": "markdown",
   "metadata": {},
   "source": [
    "### Αντιδραστήρας\n",
    "Στο πείραμα αυτό μελετάται η κατανομή των νετρονίων σε υποκρίσιμο πυρηνικό αντιδραστήρα ($k_{eff} \\approx 0.8$). Ο αντιδραστήρας αποτελείται από ράβδους φυσικού ουρανίου $U_3O_8(UO_2 . 2UO_3)$, επιβραδυντή (και ανακλαστή) ελαφρύ ύδωρ $H_2O$. Το ουράνιο βρίσκεται σε σωλήνες αλουμινίου για την αποφυγή διαρροής ραδιενεργού υλικού. \n",
    "\n",
    "Στο κέντρο του αντιδραστήρα τοποθετείται πηγή νετρονίων 5Ci $\\ ^{241}AmBe$. \n",
    "\n",
    "Τα νετρόνια της πηγής θερμοποιούνται καθώς συγκρούνται με τους πυρήνες υδρογόνου στο νερό, και εν συνεχεία μέρος τους αντιδρά με το $\\ ^{235}U$ προκαλώντας σχάση και απελευθέρωση επιπλέον νετρονίων. Το νερό δρα και ως ανακλαστής, ώστε μέρος των νετρονίων που κανονικά θα διέφευγαν του αντιδραστήρα να ανακλώνται πίσω. "
   ]
  },
  {
   "cell_type": "markdown",
   "metadata": {},
   "source": [
    "### Διάχυση νετρονίων\n",
    "Θεωρώντας ότι τα νετρόνια είναι μονοενεργειακά μπορούμε να χρησιμοποιήσουμε την μέθοδο διάχυσης μιας ομάδας. Σύμφωνα με τη μέθοδο αυτή, όταν ο αντιδραστήρας λειτουργεί σε σταθερές συνθήκες, για τα νετρόνια ισχύει: \n",
    "\n",
    "$$ created - escaped - absorbed = 0 $$\n",
    "\n",
    "ή \n",
    "\n",
    "$$ D\\nabla^2\\Phi - \\Sigma_a\\Phi + S = 0$$\n",
    "\n",
    "όπου Φ η ροή των θερμικών νετρονίων, D ο συντελεστής διάχυσης, $\\Sigma_a$ η μακροσκοπική ενεργός διατομή απορρόφησης, και S ο αριθμός n ανά μονάδα όγκου ανά μονάδα χρόνου.\n",
    "\n",
    "Επιλύοντας την παραπάνω εξίσωση καταλήγουμε στην: \n",
    "\n",
    "$$ \\Phi(r,z)=A\\cdot J_0\\cdot (2.405/R_{ex}r)\\cdot e^{-\\gamma z} $$\n",
    "\n",
    "ή \n",
    "\n",
    "$$ln\\Phi(r,z) = ln[A\\cdot J_0\\cdot (2.405/R_{ex}r)] -\\gamma z \\qquad (1)$$\n",
    "\n",
    "\n",
    "Για δεδομένο $r=r_0$ η συνάρτηση του $ln\\Phi$ ως προς το ύψος $z$ είναι ευθεία με κλίση $\\gamma$. Επομένως το ύψος από το σημείο $r_0$ στο οποίο η ροή μειώνεται στο $1/e$ της αρχικής, είναι $l=1/\\gamma$ και ονομάζεται _μήκος χαλάρωσης_. "
   ]
  },
  {
   "cell_type": "markdown",
   "metadata": {},
   "source": [
    "### Ιδιαιτερότητες πειράματος\n",
    "\n",
    "Λόγω συντήρησης των ράβδων καυσίμου ο αντιδραστήρας περιείχε μόνο την πηγή $\\ ^{241}AmBe$ και το νερό, χωρίς καμία ράβδο καυσίμου. Επίσης, θεωρήθηκε ότι η ενεργοποίηση του $In$ οφείλεται αποκλειστικά σε θερμικά νετρόνια.\n",
    "\n",
    "---"
   ]
  },
  {
   "cell_type": "markdown",
   "metadata": {},
   "source": [
    "## Πείραμα\n",
    "\n",
    "Φύλλα $In$ τοποθετήθηκαν στον αντιδραστήρα σε συγκεκριμένη θέση, αλλά σε διαφορετικό ύψος ο καθένας. Στο φυσικό $In$ υπάρχει 95.7(1)% $\\ ^{115}In$. Μετά από ακτινοβόληση 4-5 ωρών (περίπου 5 ημιζωές του $\\ ^{116}In$ ώστε η ενεργότητα να φτάσει περίπου το 99(1)% της μέγιστης), τα φύλλα αφαιρέθηκαν. \n",
    "\n",
    "\n",
    "Ο ρυθμός υποβάθρου χωρίς $In$ ήταν $8\\ cpm$ και με **μη** ενεργοποιημένο $In$ ήταν $9\\ cpm$, και αφαιρείται από τον αληθή ρυθμό.  \n",
    "\n",
    "Η ομάδα μας μέτρησε τους ψευδείς ρυθμούς R' από τις πηγές 3,6,9. Οι R' μετατράπηκαν σε αληθείς μέσω της σχέσης: \n",
    "\n",
    "$$ R = \\frac{R'}{1-\\tau R'} $$\n",
    "\n",
    "όπου $\\tau=50\\ \\mu s$ o νεκρός χρόνος του ανιχνευτή Geiger. \n",
    "\n",
    "\n",
    "Η απόδοση του Geiger στις συγκεκριμένες ενέργειες των $\\beta^-$ είναι $\\varepsilon=100\\%$ και ο παράγοντας γεωμετρίας $g = 0.4$. H ενεργότητα $A'$ δίνεται από την σχέση: \n",
    "\n",
    "$$ A' = \\frac{R}{\\varepsilon\\cdot g} $$\n",
    "\n",
    "\n",
    "\n",
    "Η ενεργότητα ανά gr $A$ δίνεται από την σχέση: \n",
    "\n",
    "$$A = \\frac{A'}{m}$$\n",
    "\n",
    "όπου $m$ η μάζα του $In$ σε gr.\n",
    "\n",
    "Θεωρούμε ότι οι αντίστοιχες ενεργότητες που υπολογίσαμε αντιστοιχούν στο μέσο της διάρκειας μέτρησης. Πχ. αν $t_{exit}=18\\ min$ o χρόνος από την έξοδο από τον αντιδραστήρα και $t_0=60\\ s$ η διάρκεια μέτρησης, τότε η ενεργότητα αντιστοιχεί στην χρονική στιγμή $t=18.5\\ min$. \n",
    "\n",
    "H ροή των θερμικών νετρονίων δίνεται από την σχέση: \n",
    "\n",
    "$$ \\Phi_\\theta = \\frac {A_\\theta} {\\sigma \\cdot M (1-e^{-\\lambda t_{irr} }) }$$\n",
    "\n",
    "όπου:  \n",
    " - $t_{irr}$ ο χρόνος ακτινοβόλησης στον αντιδραστήρα\n",
    " - $\\sigma = 162\\ barn$ \n",
    " - $M = N_A\\cdot m/A$, με $A=115$"
   ]
  },
  {
   "cell_type": "code",
   "execution_count": 1,
   "metadata": {
    "collapsed": false
   },
   "outputs": [],
   "source": [
    "import numpy\n",
    "import matplotlib as mpl\n",
    "import matplotlib.pyplot as plt\n",
    "import pandas as pd\n",
    "import scipy.optimize\n",
    "import scipy.constants\n",
    "import sympy\n",
    "sympy.init_printing() \n",
    "\n",
    "# Used for latex-labels in plots .\n",
    "# (if you don't have the dependencies from http://stackoverflow.com/a/37218925/4230591 installed, \n",
    "# it will raise an error during plotting)\n",
    "from matplotlib import rc\n",
    "rc('text', usetex=True)"
   ]
  },
  {
   "cell_type": "code",
   "execution_count": 2,
   "metadata": {
    "collapsed": false
   },
   "outputs": [],
   "source": [
    "# ====================================================================================================\n",
    "# CONSTANTS AND MISC DATA\n",
    "#\n",
    "# One-letter variables should not be used to store data, \n",
    "# since they'll be needed for `sympy.symbols()` to display functions.\n",
    "# ====================================================================================================\n",
    "\n",
    "\n",
    "t_count = 60    # secs\n",
    "t_count_in_mins = t_count / 60.\n",
    "t_exit_reactor = 18 * 60.\n",
    "t_end = 66 * 60.\n",
    "t_between_measurements = 2 * 60.\n",
    "\n",
    "R_background = 8 /60.\n",
    "R_background_In = 9 /60.\n",
    "m_In = 1 /1000    # 1gr\n",
    "indium_115_ratio = .957\n",
    "\n",
    "M_constant = scipy.constants.N_A * m_In * indium_115_ratio / 115\n",
    "\n",
    "irradiation_start = '3:00'\n",
    "irradiation_t = 4.5 * 3600    # 4-5h\n",
    "g_times_e = 0.4\n",
    "τ_constant=50 * 10**-6\n",
    "\n",
    "half_life = 54.29 * 60.  #sec\n",
    "decay_constant = numpy.log(2) / half_life\n",
    "\n",
    "σ_In = 162 * 10e-28\n",
    "\n",
    "\n",
    "# =========================================================\n",
    "# IRRELEVANT DATA (not used in calculations)\n",
    "# =========================================================\n",
    "#\n",
    "# ~40μSv/h near reactor\n",
    "# AmBe ~10e+6 n/s\n",
    "# k_eff = ~.8\n",
    "# v_geiger = 500V"
   ]
  },
  {
   "cell_type": "code",
   "execution_count": 3,
   "metadata": {
    "collapsed": false
   },
   "outputs": [
    {
     "name": "stdout",
     "output_type": "stream",
     "text": [
      "\n",
      "Ο αληθής ρυθμός R δίνεται από την σχέση:\n"
     ]
    },
    {
     "data": {
      "image/png": "[encoded data removed]",
      "text/latex": [
       "$$R = \\frac{R'}{- R' \\tau + 1}$$"
      ],
      "text/plain": [
       "        R'   \n",
       "R = ─────────\n",
       "    -R'⋅τ + 1"
      ]
     },
     "execution_count": 3,
     "metadata": {},
     "output_type": "execute_result"
    }
   ],
   "source": [
    "# =========================================================\n",
    "# R \n",
    "# =========================================================\n",
    "\n",
    "R_αληθής, σ_R_αληθής, R_ψευδής, τ, σ_R_ψευδής, t = sympy.symbols(\"R, \\sigma_R, R' tau, \\sigma_R', t\")\n",
    "_R_αληθής_f = lambda R_ψευδής, τ: R_ψευδής/(1-R_ψευδής*τ)\n",
    "R_αληθής_f = sympy.lambdify((R_ψευδής, τ), _R_αληθής_f(R_ψευδής, τ), (sympy, numpy))\n",
    "\n",
    "print('\\nΟ αληθής ρυθμός R δίνεται από την σχέση:')\n",
    "sympy.Eq(R_αληθής, R_αληθής_f(R_ψευδής, τ))"
   ]
  },
  {
   "cell_type": "code",
   "execution_count": 4,
   "metadata": {
    "collapsed": false
   },
   "outputs": [
    {
     "name": "stdout",
     "output_type": "stream",
     "text": [
      "\n",
      "Το σφάλμα στον ψευδή ρυθμό δίνεται από την σχέση:\n"
     ]
    },
    {
     "data": {
      "image/png": "[encoded data removed]",
      "text/latex": [
       "$$\\sigma_R' = \\frac{\\sqrt{R'}}{t}$$"
      ],
      "text/plain": [
       "              ____\n",
       "            ╲╱ R' \n",
       "\\sigma_R' = ──────\n",
       "              t   "
      ]
     },
     "execution_count": 4,
     "metadata": {},
     "output_type": "execute_result"
    }
   ],
   "source": [
    "# =========================================================\n",
    "# R' error\n",
    "# =========================================================\n",
    "_σ_R_ψευδής_f = lambda R_ψευδής, t: sympy.sqrt(R_ψευδής) / t\n",
    "# (Currently `lambdify` can't handle both arrays *and* sympy functions,)\n",
    "# (therefor one function is used for pretty printing and a different one for calculations.)\n",
    "σ_R_ψευδής_f = sympy.lambdify((R_ψευδής, t), _σ_R_ψευδής_f(R_ψευδής, t), modules=['numpy'])\n",
    "\n",
    "print('\\nΤο σφάλμα στον ψευδή ρυθμό δίνεται από την σχέση:')\n",
    "sympy.Eq(σ_R_ψευδής, _σ_R_ψευδής_f(R_ψευδής, t))"
   ]
  },
  {
   "cell_type": "code",
   "execution_count": 5,
   "metadata": {
    "collapsed": false
   },
   "outputs": [
    {
     "name": "stdout",
     "output_type": "stream",
     "text": [
      "\n",
      "Το σφάλμα στον αληθή ρυθμό δίνεται από την σχέση:\n"
     ]
    },
    {
     "data": {
      "image/png": "[encoded data removed]",
      "text/latex": [
       "$$\\sigma_R = \\sqrt{\\sigma_R'^{2} \\left(\\frac{R' \\tau}{\\left(- R' \\tau + 1\\right)^{2}} + \\frac{1}{- R' \\tau + 1}\\right)^{2}}$$"
      ],
      "text/plain": [
       "                 ________________________________________\n",
       "                ╱                                      2 \n",
       "               ╱           2 ⎛    R'⋅τ           1    ⎞  \n",
       "\\sigma_R =    ╱   \\sigma_R' ⋅⎜──────────── + ─────────⎟  \n",
       "             ╱               ⎜           2   -R'⋅τ + 1⎟  \n",
       "           ╲╱                ⎝(-R'⋅τ + 1)             ⎠  "
      ]
     },
     "execution_count": 5,
     "metadata": {},
     "output_type": "execute_result"
    }
   ],
   "source": [
    "# =========================================================\n",
    "# R error \n",
    "# =========================================================\n",
    "\n",
    "_err_R_αληθής_sq = sympy.diff(R_αληθής_f(R_ψευδής, τ), R_ψευδής)**2 * σ_R_ψευδής**2\n",
    "_err_R_αληθής = sympy.sqrt(_err_R_αληθής_sq)\n",
    "err_R_αληθής_f = sympy.lambdify((R_ψευδής, σ_R_ψευδής, τ), _err_R_αληθής, modules=['numpy'])\n",
    "\n",
    "print('\\nΤο σφάλμα στον αληθή ρυθμό δίνεται από την σχέση:')\n",
    "sympy.Eq(σ_R_αληθής, _err_R_αληθής)"
   ]
  },
  {
   "cell_type": "code",
   "execution_count": 6,
   "metadata": {
    "collapsed": false
   },
   "outputs": [
    {
     "name": "stdout",
     "output_type": "stream",
     "text": [
      "\n",
      "======================================================================\n",
      "Πηγή 9:\n",
      "\n",
      "   t (min)  R'(cpm)   t (s)   R'(cps)    R(cps)  error σR'(cps)  \\\n",
      "0     22.5       94  1350.0  1.566667  1.416789        0.161589   \n",
      "1     28.5       79  1710.0  1.316667  1.166753        0.148137   \n",
      "2     34.5       89  2070.0  1.483333  1.333443        0.157233   \n",
      "3     40.5       74  2430.0  1.233333  1.083409        0.143372   \n",
      "4     46.5       69  2790.0  1.150000  1.000066        0.138444   \n",
      "5     52.5       80  3150.0  1.333333  1.183422        0.149071   \n",
      "6     58.5       59  3510.0  0.983333  0.833382        0.128019   \n",
      "7     64.5       54  3870.0  0.900000  0.750041        0.122474   \n",
      "\n",
      "   error σR(cps)  relative σR %  \n",
      "0       0.161612      11.406934  \n",
      "1       0.148154      12.697959  \n",
      "2       0.157254      11.793076  \n",
      "3       0.143388      13.234851  \n",
      "4       0.138458      13.844842  \n",
      "5       0.149089      12.598111  \n",
      "6       0.128030      15.362681  \n",
      "7       0.122484      16.330275  \n",
      "\n",
      "======================================================================\n",
      "Πηγή 3:\n",
      "\n",
      "   t (min)  R'(cpm)   t (s)     R'(cps)      R(cps)  error σR'(cps)  \\\n",
      "0     18.5     9090  1110.0  151.500000  152.506372        1.589025   \n",
      "1     24.5     8364  1470.0  139.400000  140.228438        1.524248   \n",
      "2     30.5     7756  1830.0  129.266667  129.957595        1.467803   \n",
      "3     36.5     7290  2190.0  121.500000  122.092624        1.423025   \n",
      "4     42.5     6353  2550.0  105.883333  106.296881        1.328428   \n",
      "5     48.5     6084  2910.0  101.400000  101.766718        1.300000   \n",
      "6     54.5     5568  3270.0   92.800000   93.082599        1.243651   \n",
      "7     60.5     5353  3630.0   89.216667   89.466431        1.219403   \n",
      "\n",
      "   error σR(cps)  relative σR %  \n",
      "0       1.613539       1.058014  \n",
      "1       1.545850       1.102380  \n",
      "2       1.487065       1.144270  \n",
      "3       1.440559       1.179891  \n",
      "4       1.342663       1.263125  \n",
      "5       1.313331       1.290531  \n",
      "6       1.255308       1.348596  \n",
      "7       1.230387       1.375249  \n",
      "\n",
      "======================================================================\n",
      "Πηγή 6:\n",
      "\n",
      "   t (min)  R'(cpm)   t (s)    R'(cps)     R(cps)  error σR'(cps)  \\\n",
      "0     20.5     3899  1230.0  64.983333  65.045163        1.040700   \n",
      "1     26.5     3654  1590.0  60.900000  60.936007        1.007472   \n",
      "2     32.5     3331  1950.0  55.516667  55.521201        0.961914   \n",
      "3     38.5     3195  2310.0  53.250000  53.242157        0.942072   \n",
      "4     44.5     2875  2670.0  47.916667  47.881743        0.893650   \n",
      "5     50.5     2484  3030.0  41.400000  41.335876        0.830662   \n",
      "6     56.5     2337  3390.0  38.950000  38.876003        0.805709   \n",
      "7     62.5     2195  3750.0  36.583333  36.500373        0.780847   \n",
      "\n",
      "   error σR(cps)  relative σR %  \n",
      "0       1.047502       1.610423  \n",
      "1       1.013639       1.663449  \n",
      "2       0.967277       1.742175  \n",
      "3       0.947108       1.778869  \n",
      "4       0.897945       1.875339  \n",
      "5       0.834107       2.017876  \n",
      "6       0.808850       2.080590  \n",
      "7       0.783705       2.147115  \n"
     ]
    },
    {
     "data": {
      "image/png": "[encoded data removed]",
      "text/plain": [
       "<matplotlib.figure.Figure at 0x7f13509a9e48>"
      ]
     },
     "metadata": {},
     "output_type": "display_data"
    }
   ],
   "source": [
    "# ====================================================================================================\n",
    "# DATA (sources 3, 6, 9)\n",
    "# ====================================================================================================\n",
    "\n",
    "\n",
    "df3 = pd.read_csv('source3', names=['t (min)', \"R'(cpm)\"])\n",
    "df6 = pd.read_csv('source6', names=['t (min)', \"R'(cpm)\"])\n",
    "df9 = pd.read_csv('source9', names=['t (min)', \"R'(cpm)\"])\n",
    "\n",
    "dfs_3_6_9 = {3: df3, 6: df6, 9: df9}\n",
    "\n",
    "\n",
    "for source_n, _df in dfs_3_6_9.items():\n",
    "    # the measured rate is considered to have occured exactly in the middle of the measurement's duration\n",
    "    _df['t (min)'] += t_count_in_mins / 2\n",
    "    _df['t (s)'] = _df['t (min)'] * 60\n",
    "\n",
    "    _df[\"R'(cps)\"] = _df[\"R'(cpm)\"] / 60 \n",
    "    _df[\"R(cps)\"] = R_αληθής_f(_df[\"R'(cps)\"], τ_constant) - R_background_In\n",
    "    \n",
    "    # errors\n",
    "    _df[\"error σR'(cps)\"] = σ_R_ψευδής_f(_df[\"R'(cpm)\"], 60)\n",
    "    _df[\"error σR(cps)\"] = err_R_αληθής_f(_df[\"R(cps)\"], _df[\"error σR'(cps)\"], τ_constant)\n",
    "    _df[\"relative σR %\"] = _df[\"error σR(cps)\"] / _df[\"R(cps)\"] * 100\n",
    "    \n",
    "    \n",
    "    print('\\n' + '='*70)\n",
    "    print('Πηγή {}:\\n'.format(source_n))\n",
    "    print(_df)\n",
    "\n",
    "    source_label = r'source: {}'.format(source_n)\n",
    "    plt.plot(_df['t (s)'], _df[\"R(cps)\"], marker='.', label=source_label)\n",
    "    plt.ylim(ymin=0, ymax=160)\n",
    "\n",
    "\n",
    "plt.xlabel('t(s)')\n",
    "plt.ylabel('R(cps)')\n",
    "plt.legend(loc='upper right')\n",
    "plt.title('FIGURE 1:\\nRates vs time of sources 3,6 and 9. \\n(Errorbars were omitted since they are too small.)')\n",
    "plt.grid('on')\n",
    "plt.show()"
   ]
  },
  {
   "cell_type": "markdown",
   "metadata": {},
   "source": [
    "### Υπολογισμός ρυθμού R κατά την έξοδο του In από τον αντιδραστήρα\n",
    "\n",
    "[Θεωρώντας ότι το σφάλμα στους ρυθμούς](http://www.mathworks.com/help/stats/examples/pitfalls-in-fitting-nonlinear-models-by-transforming-to-linearity.html) είναι πολλαπλασιαστικό και όχι προσθετικό, χρησιμοποιούμε μέθοδο ελαχίστων τετραγώνων, αφού μετατρέψουμε την εκθετική συνάρτηση σε γραμμική."
   ]
  },
  {
   "cell_type": "code",
   "execution_count": 7,
   "metadata": {
    "collapsed": false
   },
   "outputs": [
    {
     "name": "stdout",
     "output_type": "stream",
     "text": [
      "a = 5.26188, b = -0.00021825\n",
      "Ro = 192.8\n",
      "λ/b = 97.5%\n",
      "σφάλμα στο Ro: 2.819\n"
     ]
    }
   ],
   "source": [
    "# ====================================================================================================\n",
    "# Linear fit\n",
    "# ====================================================================================================\n",
    "\n",
    "\n",
    "_f = lambda x, a, b: a+x*b\n",
    "lin_popt, lin_pcov = scipy.optimize.curve_fit(_f, df3['t (s)'], scipy.log(df3['R(cps)']), \n",
    "                                              sigma=_df[\"error σR(cps)\"], absolute_sigma=True)\n",
    "lin_perr = numpy.sqrt(numpy.diag(lin_pcov))\n",
    "\n",
    "print('a = {:.6}, b = {:.6}'.format(*lin_popt))\n",
    "print('Ro = {:.4}'.format(scipy.e**lin_popt[0]))\n",
    "print('λ/b = {:.1%}'.format(-decay_constant/lin_popt[1]))\n",
    "print('σφάλμα στο Ro: {:.4}'.format(scipy.e**lin_perr[0]))\n",
    "# (using python variables in markdown is not supported yet, therefor it has to be done manually)"
   ]
  },
  {
   "cell_type": "markdown",
   "metadata": {},
   "source": [
    "Ο ρυθμός κατά το τέλος της ακτινοβόλησης είναι $R_0 = 193(3) cps$."
   ]
  },
  {
   "cell_type": "code",
   "execution_count": 8,
   "metadata": {
    "collapsed": false
   },
   "outputs": [
    {
     "name": "stdout",
     "output_type": "stream",
     "text": [
      "a = 194.294, b = -0.000221309\n",
      "λ/b = 0.961513\n"
     ]
    }
   ],
   "source": [
    "# ====================================================================================================\n",
    "# Non linear fit (not used in further calculations; displayed just for comparison)\n",
    "# ====================================================================================================\n",
    "\n",
    "\n",
    "def exp_f(x, a,b):\n",
    "    return a * scipy.e**(b*x)\n",
    "\n",
    "exp_popt, _ = scipy.optimize.curve_fit(exp_f, df3['t (s)'], df3['R(cps)'],sigma=_df[\"error σR(cps)\"], p0=(300, -decay_constant))\n",
    "print('a = {:.6}, b = {:.6}'.format(*exp_popt))\n",
    "print('λ/b = {:.6}'.format(-decay_constant/exp_popt[1]))"
   ]
  },
  {
   "cell_type": "markdown",
   "metadata": {},
   "source": [
    "## Κατανομή ροής νετρονίων συναρτήσει του ύψους z\n",
    "\n",
    "Αρχικά υπολογίζουμε την ενεργότητα της εκάστοτε πηγής στο τέλος της ακτινοβόλησης, λαμβάνοντας υπόψιν τον παράγοντα γεωμετρίας $g=0.4$ και την απόδοση $\\varepsilon=1$ του Geiger στις συγκεκριμένες ενέργειες των $\\beta^-$."
   ]
  },
  {
   "cell_type": "code",
   "execution_count": 9,
   "metadata": {
    "collapsed": false
   },
   "outputs": [],
   "source": [
    "# ============================================================================================\n",
    "# DATA (all sources' R at the end of irradiation)\n",
    "# ============================================================================================\n",
    "\n",
    "\n",
    "df_all = pd.read_csv('all_sources', names=['z (cm)', \"R(cps)\"])\n",
    "df_all['A(Bq)'] = df_all[\"R(cps)\"] / g_times_e"
   ]
  },
  {
   "cell_type": "markdown",
   "metadata": {},
   "source": [
    "Στην παρακάτω γραφική παράσταση παρουσιάζεται η ροή των νετρονίων συναρτήσει του ύψους. Το $z=0$ αντιστοιχεί στο ύψος της πηγής $\\ ^{241}AmBe$.\n",
    "\n",
    "Παρατηρείται ότι η μέγιστη ροή βρίσκεται στο ύψος της πηγής $\\ ^{241}AmBe$. Η ροή δεν είναι συμμετρική, λόγω της κατασκευής του αντιδραστήρα. Η επάνω επιφάνεια του αντιδραστήρα είναι ανοιχτή (αέρας), ενώ στην κάτω βρίσκεται ο μεταλλικός του πάτος καθώς και το τσιμέντο. Ως αποτέλεσμα αυτού, από την επάνω επιφάνεια τα νετρόνια διαφεύγουν ελεύθερα του αντιδραστήρα μόλις εξέλθουν του νερού, ενώ στην κάτω επιφάνεια μέρος των νετρονίων οπισθοσκεδάζεται από τα υλικά που προαναφέρθηκαν. "
   ]
  },
  {
   "cell_type": "code",
   "execution_count": 10,
   "metadata": {
    "collapsed": false
   },
   "outputs": [
    {
     "data": {
      "image/png": "[encoded data removed]",
      "text/latex": [
       "$$\\Phi = \\frac{A_{th}}{M \\sigma \\left(1 - e^{- \\lambda t_{irr}}\\right)}$$"
      ],
      "text/plain": [
       "                    Aₜₕ             \n",
       "\\Phi = ─────────────────────────────\n",
       "                ⎛     -\\lambda⋅tᵢᵣᵣ⎞\n",
       "       M⋅\\sigma⋅⎝1 - ℯ             ⎠"
      ]
     },
     "execution_count": 10,
     "metadata": {},
     "output_type": "execute_result"
    }
   ],
   "source": [
    "# ============================================================================================\n",
    "# Neutron flux formula\n",
    "# ============================================================================================\n",
    "\n",
    "\n",
    "A_θ, t , λ, σ, t_irr, M, Φ = sympy.symbols('A_th, t, \\lambda, \\sigma, t_irr, M, \\Phi')\n",
    "_flux_f = lambda A_θ, λ, t_irr, M, σ: A_θ / (σ * M * (1-sympy.E**(-λ * t_irr)))\n",
    "flux_f = sympy.lambdify((A_θ, λ, t_irr, M, σ), _flux_f(A_θ, λ, t_irr, M, σ))\n",
    "\n",
    "sympy.Eq(Φ, _flux_f(A_θ, λ, t_irr, M, σ))"
   ]
  },
  {
   "cell_type": "code",
   "execution_count": 11,
   "metadata": {
    "collapsed": false,
    "scrolled": false
   },
   "outputs": [
    {
     "name": "stdout",
     "output_type": "stream",
     "text": [
      "   z (cm)  R(cps)    A(Bq)           Φ\n",
      "0      40    1.90    4.750    2.417262\n",
      "1      30    0.30    0.750    0.381673\n",
      "2      20   45.86  114.650   58.345070\n",
      "3      10   89.13  222.825  113.395030\n",
      "4       5  177.60  444.000  225.950379\n",
      "5       0  349.90  874.750  445.157870\n",
      "6      -5  193.70  484.250  246.433494\n",
      "7     -10   58.50  146.250   74.426223\n",
      "8     -20   38.70   96.750   49.235809\n"
     ]
    },
    {
     "data": {
      "image/png": "[encoded data removed]",
      "text/plain": [
       "<matplotlib.figure.Figure at 0x7f1380e41160>"
      ]
     },
     "metadata": {},
     "output_type": "display_data"
    }
   ],
   "source": [
    "# ============================================================================================\n",
    "# FLUX CALCULATION\n",
    "# ============================================================================================\n",
    "\n",
    "\n",
    "# flux unit: n per cm^3 per sec\n",
    "df_all['Φ'] = flux_f(df_all[\"R(cps)\"], decay_constant, irradiation_t, M_constant, σ_In)/ (100**3)\n",
    "df_all['Φ'] = df_all['Φ'].astype(scipy.float64, copy=False)\n",
    "print(df_all)\n",
    "\n",
    "# --------------------------------------------------------------------\n",
    "plt.plot(df_all['Φ'],df_all['z (cm)'])\n",
    "\n",
    "plt.xlabel('flux$(n/cm^3/s)$')\n",
    "plt.ylabel('height (cm)')\n",
    "plt.title('FIGURE 2: \\nThermal neutron flux')\n",
    "plt.grid('on')\n",
    "\n",
    "plt.show()"
   ]
  },
  {
   "cell_type": "markdown",
   "metadata": {},
   "source": [
    "## Μήκος χαλάρωσης\n",
    "\n"
   ]
  },
  {
   "cell_type": "code",
   "execution_count": 12,
   "metadata": {
    "collapsed": false
   },
   "outputs": [
    {
     "name": "stdout",
     "output_type": "stream",
     "text": [
      "a = 18.2358, b = -8.33343\n",
      "μήκος χαλάρωσης: 12.0 cm\n"
     ]
    }
   ],
   "source": [
    "# ====================================================================================================\n",
    "# Least squares\n",
    "# ====================================================================================================\n",
    "\n",
    "\n",
    "_f = lambda x, a, b: a+x*b\n",
    "# Converting flux to n/m^3/s first, and z to meters.\n",
    "# (No errors were given for Φ)\n",
    "lin_popt, _ = scipy.optimize.curve_fit(_f, df_all['z (cm)']/100, scipy.log(df_all['Φ']*(100**3)))\n",
    "print('a = {:.6}, b = {:.6}'.format(*lin_popt))\n",
    "relaxation_length = -1/lin_popt[1]\n",
    "print('μήκος χαλάρωσης: {:.5} cm'.format(relaxation_length * 100))"
   ]
  },
  {
   "cell_type": "markdown",
   "metadata": {},
   "source": [
    "Το μήκος χαλάρωσης προκύπτει 12.0cm. \n",
    "\n",
    "(Λόγω του ότι δεν μας δόθηκαν τα σφάλματα από τις υπόλοιπες πηγές, δεν τα λαμβάνουμε υπόψιν στoυς υπολογισμούς και δεν μπορούμε να υπολογίσουμε το σφάλμα στο μήκος χαλάρωσης.)"
   ]
  },
  {
   "cell_type": "markdown",
   "metadata": {},
   "source": [
    "## Πιθανές πηγές σφαλμάτων"
   ]
  },
  {
   "cell_type": "markdown",
   "metadata": {},
   "source": [
    "### Οπισθοσκέδαση σωματιδίων $\\beta^-$ από το υλικό κάτω από την πηγή. \n",
    "\n",
    "Η οπισθοσκέδαση των $\\beta^-$ από την βάση τοποθέτησης, τον πάγκο και τα υλικά γύρω από τον ανιχνευτή, συμπεριλαμβανομένου και της θέσης της ερευνήτριας κατά τις μετρήσεις, πιθανόν προκάλεσε υπερεκτίμηση των ρυθμών."
   ]
  },
  {
   "cell_type": "markdown",
   "metadata": {},
   "source": [
    "### Επιλογή χρόνου μέτρησης στο μέσο της διάρκειας μέτρησης\n",
    "\n",
    "Ο εκάστοτε ρυθμός αποδόθηκε στο μέσο της διάρκειας μέτρησης $t_0$ (δηλ. $t_0 = t_1 + \\frac{t_2-t_1}{2}$). Ωστόσο, λόγω της εκθετικής πτώσης της ενεργότητας, η υπολογιζόμενη ενεργότητα στην πραγματικότητα αντιστοιχεί σε χρόνο πριν του μέσου. \n",
    "\n",
    "![actual time for measured rate](actual_count_time.png)"
   ]
  },
  {
   "cell_type": "markdown",
   "metadata": {},
   "source": [
    "### Υπερεκτίμηση παράγοντα γεωμετρίας λόγω εγγύτητας πηγής-ανιχνευτή\n",
    "\n",
    "Σε επαρκώς μεγάλες αποστάσεις ο παράγοντας γεωμετρίας μπορεί να αγνοεί τις διαστάσεις του ανιχνευτή, και να χρησιμοποιείται ως έχει για τον υπολογισμό των σωματιδίων που διέρχονται από μέσα του. \n",
    "\n",
    "Για πολύ κοντινές αποστάσεις όμως, σε μεγάλες γωνίες πρόσπτωσης (δέσμη 2 στην παρακάτω εικόνα) τα σωματίδια διέρχονται από λιγότερο υλικό του ανιχνευτή, σε αντίθεση με σωματίδια που προσπίπτουν κάθετα στην επιφάνειά του (δέσμη 1). \n",
    "\n",
    "![beam differences](large_geometry_factor_distortion.png)\n",
    "\n",
    "Ως αποτέλεσμα, κάποια σωματίδια σε μεγάλες γωνίες δεν προκαλούν επαρκή ιονισμό ώστε να καταχωρηθούν από τον ανιχνευτή. Το φαινόμενο αυτό ίσως να μην είναι τόσο σημαντικό για άμεσα ιονίζουσες ακτινοβολίες, όπως τα $\\beta^-$ του πειράματος, αλλά ωστόσο όχι αμελητέο."
   ]
  },
  {
   "cell_type": "markdown",
   "metadata": {},
   "source": [
    "### Ταυτόχρονη μετακίνηση/μέτρηση άλλων πηγών σε διπλανούς Geiger\n",
    "\n",
    "Ταυτόχρονα με την μέτρησή μας διεξάγονταν και άλλες μετρήσεις σε απόσταση μικρότερη των 2 μέτρων, πιθανόν αυξάνοντας σημαντικά το υπόβαθρο. Ενδέχεται αυτό το σφάλμα να επηρέασε ιδιαίτερα τις μετρήσεις πηγών με μικρές ενεργότητες (πχ. πηγή 9).\n",
    "\n"
   ]
  },
  {
   "cell_type": "code",
   "execution_count": 13,
   "metadata": {
    "collapsed": false
   },
   "outputs": [
    {
     "data": {
      "image/png": "[encoded data removed]",
      "text/plain": [
       "<matplotlib.figure.Figure at 0x7f134e879748>"
      ]
     },
     "metadata": {},
     "output_type": "display_data"
    }
   ],
   "source": [
    "plt.plot(df9['t (s)'], df9[\"R(cps)\"], marker='.', label='Source 9')\n",
    "plt.errorbar(df9['t (s)'], df9[\"R(cps)\"], df9[\"error σR(cps)\"], label=None)\n",
    "plt.ylim(ymin=0)\n",
    "plt.xlabel('t(s)')\n",
    "plt.ylabel('R(cps)')\n",
    "plt.legend(loc='upper right')\n",
    "plt.title('FIGURE 3: \\nRate of source 9.')\n",
    "plt.grid('on')\n",
    "\n",
    "plt.show()"
   ]
  },
  {
   "cell_type": "markdown",
   "metadata": {},
   "source": [
    "### Μη θερμικά νετρόνια \n",
    "\n",
    "Λόγω της μη χρήσης $Cd$, ταυτόχρονα και μη θερμικά νετρόνια απορροφόνται από το $\\ ^{115}In$. Ως αποτέλεσμα αυξάνει ο μετρούμενος ρυθμός, λόγω του ότι πολλά από αυτά τα νετρόνια αυτά θα διέφευγαν ή θα απορροφόνταν πριν θερμοποιηθούν,  επομένως δεν θα ήταν διαθέσιμα ως θερμικά. "
   ]
  },
  {
   "cell_type": "markdown",
   "metadata": {},
   "source": [
    "## Αναφορές\n",
    "\n",
    "Για την συγγραφή της εργασίας χρησιμοποιήθηκαν οι παρακάτω αναφορές:\n",
    "\n",
    "1. Η ΠΥΡΗΝΙΚΗ ΦΥΣΙΚΗ ΣΤΟ ΕΡΓΑΣΤΗΡΙΟ - ΦΟΙΤΗΤΙΚΕΣ ΑΣΚΗΣΕΙΣ, X. ΕΛΕΥΘΕΡΙΑΔΗΣ, Μ. ΖΑΜΑΝΗ, Α. ΛΙΟΛΙΟΣ, Μ. ΜΑΝΩΛΟΠΟΥΛΟΥ, X. ΠΕΤΡΙΔΟΥ, Η. ΣΑΒΒΙΔΗΣ, Εκδόσεις: COPY CITY\n",
    "\n",
    "2. https://docs.scipy.org/doc/scipy/reference/generated/scipy.optimize.curve_fit.html \n",
    "\n"
   ]
  }
 ],
 "metadata": {
  "kernelspec": {
   "display_name": "Python 3",
   "language": "python",
   "name": "python3"
  },
  "language_info": {
   "codemirror_mode": {
    "name": "ipython",
    "version": 3
   },
   "file_extension": ".py",
   "mimetype": "text/x-python",
   "name": "python",
   "nbconvert_exporter": "python",
   "pygments_lexer": "ipython3",
   "version": "3.5.2"
  }
 },
 "nbformat": 4,
 "nbformat_minor": 0
}
